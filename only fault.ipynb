{
 "cells": [
  {
   "cell_type": "code",
   "execution_count": 31,
   "metadata": {},
   "outputs": [],
   "source": [
    "import numpy as np\n",
    "import matplotlib.pyplot as plt\n",
    "import pandas as pd"
   ]
  },
  {
   "cell_type": "code",
   "execution_count": 33,
   "metadata": {
    "scrolled": true
   },
   "outputs": [
    {
     "data": {
      "text/html": [
       "<div>\n",
       "<style scoped>\n",
       "    .dataframe tbody tr th:only-of-type {\n",
       "        vertical-align: middle;\n",
       "    }\n",
       "\n",
       "    .dataframe tbody tr th {\n",
       "        vertical-align: top;\n",
       "    }\n",
       "\n",
       "    .dataframe thead th {\n",
       "        text-align: right;\n",
       "    }\n",
       "</style>\n",
       "<table border=\"1\" class=\"dataframe\">\n",
       "  <thead>\n",
       "    <tr style=\"text-align: right;\">\n",
       "      <th></th>\n",
       "      <th>Timeperiod</th>\n",
       "      <th>output_voltage</th>\n",
       "      <th>output_current</th>\n",
       "      <th>switch1_voltage</th>\n",
       "      <th>switch1_current</th>\n",
       "      <th>switch2_voltage</th>\n",
       "      <th>switch2_current</th>\n",
       "      <th>switch3_voltage</th>\n",
       "      <th>switch3_current</th>\n",
       "      <th>switch4_voltage</th>\n",
       "      <th>switch4_current</th>\n",
       "      <th>switch5_voltage</th>\n",
       "      <th>switch5_current</th>\n",
       "      <th>switch6_voltage</th>\n",
       "      <th>switch6_current</th>\n",
       "      <th>switch7_voltage</th>\n",
       "      <th>switch7_current</th>\n",
       "      <th>switch8_voltage</th>\n",
       "      <th>switch8_current</th>\n",
       "      <th>Activity</th>\n",
       "    </tr>\n",
       "  </thead>\n",
       "  <tbody>\n",
       "    <tr>\n",
       "      <th>0</th>\n",
       "      <td>0.000000e+00</td>\n",
       "      <td>0.000000</td>\n",
       "      <td>0.000000</td>\n",
       "      <td>50.000000</td>\n",
       "      <td>0.000000</td>\n",
       "      <td>50.000000</td>\n",
       "      <td>0.000000</td>\n",
       "      <td>50.000000</td>\n",
       "      <td>0.000000</td>\n",
       "      <td>50.000000</td>\n",
       "      <td>0.000000</td>\n",
       "      <td>50.000000</td>\n",
       "      <td>0.000000</td>\n",
       "      <td>50.000000</td>\n",
       "      <td>0.000000</td>\n",
       "      <td>50.000000</td>\n",
       "      <td>0.000000</td>\n",
       "      <td>50.000000</td>\n",
       "      <td>0.0</td>\n",
       "      <td>1</td>\n",
       "    </tr>\n",
       "    <tr>\n",
       "      <th>1</th>\n",
       "      <td>3.160000e-30</td>\n",
       "      <td>0.000000</td>\n",
       "      <td>0.000000</td>\n",
       "      <td>0.000100</td>\n",
       "      <td>0.001000</td>\n",
       "      <td>0.000100</td>\n",
       "      <td>0.001000</td>\n",
       "      <td>99.999900</td>\n",
       "      <td>0.000000</td>\n",
       "      <td>99.999900</td>\n",
       "      <td>0.000000</td>\n",
       "      <td>0.000100</td>\n",
       "      <td>0.001000</td>\n",
       "      <td>0.000100</td>\n",
       "      <td>0.001000</td>\n",
       "      <td>99.999900</td>\n",
       "      <td>0.000000</td>\n",
       "      <td>99.999900</td>\n",
       "      <td>0.0</td>\n",
       "      <td>1</td>\n",
       "    </tr>\n",
       "    <tr>\n",
       "      <th>2</th>\n",
       "      <td>2.500000e-03</td>\n",
       "      <td>0.000000</td>\n",
       "      <td>0.000000</td>\n",
       "      <td>0.000100</td>\n",
       "      <td>0.001000</td>\n",
       "      <td>0.000100</td>\n",
       "      <td>0.001000</td>\n",
       "      <td>99.999900</td>\n",
       "      <td>0.000000</td>\n",
       "      <td>99.999900</td>\n",
       "      <td>0.000000</td>\n",
       "      <td>0.000100</td>\n",
       "      <td>0.001000</td>\n",
       "      <td>0.000100</td>\n",
       "      <td>0.001000</td>\n",
       "      <td>99.999900</td>\n",
       "      <td>0.000000</td>\n",
       "      <td>99.999900</td>\n",
       "      <td>0.0</td>\n",
       "      <td>1</td>\n",
       "    </tr>\n",
       "    <tr>\n",
       "      <th>3</th>\n",
       "      <td>2.500000e-03</td>\n",
       "      <td>99.691572</td>\n",
       "      <td>0.996916</td>\n",
       "      <td>0.099791</td>\n",
       "      <td>0.997914</td>\n",
       "      <td>99.900209</td>\n",
       "      <td>0.000000</td>\n",
       "      <td>99.900209</td>\n",
       "      <td>0.000000</td>\n",
       "      <td>0.099791</td>\n",
       "      <td>0.997914</td>\n",
       "      <td>0.099791</td>\n",
       "      <td>0.997914</td>\n",
       "      <td>-0.009054</td>\n",
       "      <td>-0.995916</td>\n",
       "      <td>99.900209</td>\n",
       "      <td>0.000000</td>\n",
       "      <td>100.009054</td>\n",
       "      <td>0.0</td>\n",
       "      <td>1</td>\n",
       "    </tr>\n",
       "    <tr>\n",
       "      <th>4</th>\n",
       "      <td>5.000000e-03</td>\n",
       "      <td>99.691572</td>\n",
       "      <td>0.996916</td>\n",
       "      <td>0.099791</td>\n",
       "      <td>0.997914</td>\n",
       "      <td>99.900209</td>\n",
       "      <td>0.000000</td>\n",
       "      <td>99.900209</td>\n",
       "      <td>0.000000</td>\n",
       "      <td>0.099791</td>\n",
       "      <td>0.997914</td>\n",
       "      <td>0.099791</td>\n",
       "      <td>0.997914</td>\n",
       "      <td>-0.009054</td>\n",
       "      <td>-0.995916</td>\n",
       "      <td>99.900209</td>\n",
       "      <td>0.000000</td>\n",
       "      <td>100.009054</td>\n",
       "      <td>0.0</td>\n",
       "      <td>1</td>\n",
       "    </tr>\n",
       "    <tr>\n",
       "      <th>...</th>\n",
       "      <td>...</td>\n",
       "      <td>...</td>\n",
       "      <td>...</td>\n",
       "      <td>...</td>\n",
       "      <td>...</td>\n",
       "      <td>...</td>\n",
       "      <td>...</td>\n",
       "      <td>...</td>\n",
       "      <td>...</td>\n",
       "      <td>...</td>\n",
       "      <td>...</td>\n",
       "      <td>...</td>\n",
       "      <td>...</td>\n",
       "      <td>...</td>\n",
       "      <td>...</td>\n",
       "      <td>...</td>\n",
       "      <td>...</td>\n",
       "      <td>...</td>\n",
       "      <td>...</td>\n",
       "      <td>...</td>\n",
       "    </tr>\n",
       "    <tr>\n",
       "      <th>8395</th>\n",
       "      <td>9.950000e-01</td>\n",
       "      <td>-99.691572</td>\n",
       "      <td>-0.996916</td>\n",
       "      <td>99.900209</td>\n",
       "      <td>0.000000</td>\n",
       "      <td>0.099791</td>\n",
       "      <td>0.997914</td>\n",
       "      <td>0.099791</td>\n",
       "      <td>0.997914</td>\n",
       "      <td>99.900209</td>\n",
       "      <td>0.000000</td>\n",
       "      <td>-0.009054</td>\n",
       "      <td>-0.995916</td>\n",
       "      <td>0.099791</td>\n",
       "      <td>0.997914</td>\n",
       "      <td>100.009054</td>\n",
       "      <td>0.000000</td>\n",
       "      <td>99.900209</td>\n",
       "      <td>0.0</td>\n",
       "      <td>0</td>\n",
       "    </tr>\n",
       "    <tr>\n",
       "      <th>8396</th>\n",
       "      <td>9.950000e-01</td>\n",
       "      <td>-199.202790</td>\n",
       "      <td>-1.992028</td>\n",
       "      <td>99.800698</td>\n",
       "      <td>0.000000</td>\n",
       "      <td>0.199302</td>\n",
       "      <td>1.993024</td>\n",
       "      <td>0.199302</td>\n",
       "      <td>1.993024</td>\n",
       "      <td>99.800698</td>\n",
       "      <td>0.000000</td>\n",
       "      <td>99.800698</td>\n",
       "      <td>0.000000</td>\n",
       "      <td>0.199302</td>\n",
       "      <td>1.993024</td>\n",
       "      <td>0.199302</td>\n",
       "      <td>1.993024</td>\n",
       "      <td>99.800698</td>\n",
       "      <td>0.0</td>\n",
       "      <td>0</td>\n",
       "    </tr>\n",
       "    <tr>\n",
       "      <th>8397</th>\n",
       "      <td>9.975000e-01</td>\n",
       "      <td>-199.202790</td>\n",
       "      <td>-1.992028</td>\n",
       "      <td>99.800698</td>\n",
       "      <td>0.000000</td>\n",
       "      <td>0.199302</td>\n",
       "      <td>1.993024</td>\n",
       "      <td>0.199302</td>\n",
       "      <td>1.993024</td>\n",
       "      <td>99.800698</td>\n",
       "      <td>0.000000</td>\n",
       "      <td>99.800698</td>\n",
       "      <td>0.000000</td>\n",
       "      <td>0.199302</td>\n",
       "      <td>1.993024</td>\n",
       "      <td>0.199302</td>\n",
       "      <td>1.993024</td>\n",
       "      <td>99.800698</td>\n",
       "      <td>0.0</td>\n",
       "      <td>0</td>\n",
       "    </tr>\n",
       "    <tr>\n",
       "      <th>8398</th>\n",
       "      <td>9.975000e-01</td>\n",
       "      <td>-99.691572</td>\n",
       "      <td>-0.996916</td>\n",
       "      <td>99.900209</td>\n",
       "      <td>0.000000</td>\n",
       "      <td>0.099791</td>\n",
       "      <td>0.997914</td>\n",
       "      <td>0.099791</td>\n",
       "      <td>0.997914</td>\n",
       "      <td>99.900209</td>\n",
       "      <td>0.000000</td>\n",
       "      <td>-0.009054</td>\n",
       "      <td>-0.995916</td>\n",
       "      <td>0.099791</td>\n",
       "      <td>0.997914</td>\n",
       "      <td>100.009054</td>\n",
       "      <td>0.000000</td>\n",
       "      <td>99.900209</td>\n",
       "      <td>0.0</td>\n",
       "      <td>0</td>\n",
       "    </tr>\n",
       "    <tr>\n",
       "      <th>8399</th>\n",
       "      <td>1.000000e+00</td>\n",
       "      <td>-99.691572</td>\n",
       "      <td>-0.996916</td>\n",
       "      <td>99.900209</td>\n",
       "      <td>0.000000</td>\n",
       "      <td>0.099791</td>\n",
       "      <td>0.997914</td>\n",
       "      <td>0.099791</td>\n",
       "      <td>0.997914</td>\n",
       "      <td>99.900209</td>\n",
       "      <td>0.000000</td>\n",
       "      <td>-0.009054</td>\n",
       "      <td>-0.995916</td>\n",
       "      <td>0.099791</td>\n",
       "      <td>0.997914</td>\n",
       "      <td>100.009054</td>\n",
       "      <td>0.000000</td>\n",
       "      <td>99.900209</td>\n",
       "      <td>0.0</td>\n",
       "      <td>0</td>\n",
       "    </tr>\n",
       "  </tbody>\n",
       "</table>\n",
       "<p>8400 rows × 20 columns</p>\n",
       "</div>"
      ],
      "text/plain": [
       "        Timeperiod  output_voltage  output_current  switch1_voltage  \\\n",
       "0     0.000000e+00        0.000000        0.000000        50.000000   \n",
       "1     3.160000e-30        0.000000        0.000000         0.000100   \n",
       "2     2.500000e-03        0.000000        0.000000         0.000100   \n",
       "3     2.500000e-03       99.691572        0.996916         0.099791   \n",
       "4     5.000000e-03       99.691572        0.996916         0.099791   \n",
       "...            ...             ...             ...              ...   \n",
       "8395  9.950000e-01      -99.691572       -0.996916        99.900209   \n",
       "8396  9.950000e-01     -199.202790       -1.992028        99.800698   \n",
       "8397  9.975000e-01     -199.202790       -1.992028        99.800698   \n",
       "8398  9.975000e-01      -99.691572       -0.996916        99.900209   \n",
       "8399  1.000000e+00      -99.691572       -0.996916        99.900209   \n",
       "\n",
       "      switch1_current  switch2_voltage  switch2_current  switch3_voltage  \\\n",
       "0            0.000000        50.000000         0.000000        50.000000   \n",
       "1            0.001000         0.000100         0.001000        99.999900   \n",
       "2            0.001000         0.000100         0.001000        99.999900   \n",
       "3            0.997914        99.900209         0.000000        99.900209   \n",
       "4            0.997914        99.900209         0.000000        99.900209   \n",
       "...               ...              ...              ...              ...   \n",
       "8395         0.000000         0.099791         0.997914         0.099791   \n",
       "8396         0.000000         0.199302         1.993024         0.199302   \n",
       "8397         0.000000         0.199302         1.993024         0.199302   \n",
       "8398         0.000000         0.099791         0.997914         0.099791   \n",
       "8399         0.000000         0.099791         0.997914         0.099791   \n",
       "\n",
       "      switch3_current  switch4_voltage  switch4_current  switch5_voltage  \\\n",
       "0            0.000000        50.000000         0.000000        50.000000   \n",
       "1            0.000000        99.999900         0.000000         0.000100   \n",
       "2            0.000000        99.999900         0.000000         0.000100   \n",
       "3            0.000000         0.099791         0.997914         0.099791   \n",
       "4            0.000000         0.099791         0.997914         0.099791   \n",
       "...               ...              ...              ...              ...   \n",
       "8395         0.997914        99.900209         0.000000        -0.009054   \n",
       "8396         1.993024        99.800698         0.000000        99.800698   \n",
       "8397         1.993024        99.800698         0.000000        99.800698   \n",
       "8398         0.997914        99.900209         0.000000        -0.009054   \n",
       "8399         0.997914        99.900209         0.000000        -0.009054   \n",
       "\n",
       "      switch5_current  switch6_voltage  switch6_current  switch7_voltage  \\\n",
       "0            0.000000        50.000000         0.000000        50.000000   \n",
       "1            0.001000         0.000100         0.001000        99.999900   \n",
       "2            0.001000         0.000100         0.001000        99.999900   \n",
       "3            0.997914        -0.009054        -0.995916        99.900209   \n",
       "4            0.997914        -0.009054        -0.995916        99.900209   \n",
       "...               ...              ...              ...              ...   \n",
       "8395        -0.995916         0.099791         0.997914       100.009054   \n",
       "8396         0.000000         0.199302         1.993024         0.199302   \n",
       "8397         0.000000         0.199302         1.993024         0.199302   \n",
       "8398        -0.995916         0.099791         0.997914       100.009054   \n",
       "8399        -0.995916         0.099791         0.997914       100.009054   \n",
       "\n",
       "      switch7_current  switch8_voltage  switch8_current  Activity  \n",
       "0            0.000000        50.000000              0.0         1  \n",
       "1            0.000000        99.999900              0.0         1  \n",
       "2            0.000000        99.999900              0.0         1  \n",
       "3            0.000000       100.009054              0.0         1  \n",
       "4            0.000000       100.009054              0.0         1  \n",
       "...               ...              ...              ...       ...  \n",
       "8395         0.000000        99.900209              0.0         0  \n",
       "8396         1.993024        99.800698              0.0         0  \n",
       "8397         1.993024        99.800698              0.0         0  \n",
       "8398         0.000000        99.900209              0.0         0  \n",
       "8399         0.000000        99.900209              0.0         0  \n",
       "\n",
       "[8400 rows x 20 columns]"
      ]
     },
     "execution_count": 33,
     "metadata": {},
     "output_type": "execute_result"
    }
   ],
   "source": [
    "df = pd.read_csv('joy.csv')\n",
    "df"
   ]
  },
  {
   "cell_type": "code",
   "execution_count": 35,
   "metadata": {},
   "outputs": [
    {
     "name": "stdout",
     "output_type": "stream",
     "text": [
      "Requirement already satisfied: imbalanced-learn in c:\\users\\sanjay\\anaconda3\\lib\\site-packages (0.9.0)\n",
      "Requirement already satisfied: threadpoolctl>=2.0.0 in c:\\users\\sanjay\\anaconda3\\lib\\site-packages (from imbalanced-learn) (2.2.0)\n",
      "Requirement already satisfied: scikit-learn>=1.0.1 in c:\\users\\sanjay\\anaconda3\\lib\\site-packages (from imbalanced-learn) (1.0.2)\n",
      "Requirement already satisfied: numpy>=1.14.6 in c:\\users\\sanjay\\anaconda3\\lib\\site-packages (from imbalanced-learn) (1.20.3)\n",
      "Requirement already satisfied: joblib>=0.11 in c:\\users\\sanjay\\anaconda3\\lib\\site-packages (from imbalanced-learn) (1.1.0)\n",
      "Requirement already satisfied: scipy>=1.1.0 in c:\\users\\sanjay\\anaconda3\\lib\\site-packages (from imbalanced-learn) (1.7.1)\n"
     ]
    }
   ],
   "source": [
    "! pip install -U imbalanced-learn"
   ]
  },
  {
   "cell_type": "code",
   "execution_count": 37,
   "metadata": {},
   "outputs": [],
   "source": [
    "X = df.drop(['Activity'], axis=1)\n",
    "y = df['Activity']"
   ]
  },
  {
   "cell_type": "code",
   "execution_count": 42,
   "metadata": {},
   "outputs": [
    {
     "data": {
      "text/plain": [
       "0    7560\n",
       "1     840\n",
       "Name: Activity, dtype: int64"
      ]
     },
     "execution_count": 42,
     "metadata": {},
     "output_type": "execute_result"
    }
   ],
   "source": [
    "activity_count = y.value_counts()\n",
    "activity_count"
   ]
  },
  {
   "cell_type": "code",
   "execution_count": 43,
   "metadata": {},
   "outputs": [
    {
     "data": {
      "text/plain": [
       "<AxesSubplot:ylabel='Activity'>"
      ]
     },
     "execution_count": 43,
     "metadata": {},
     "output_type": "execute_result"
    },
    {
     "data": {
      "image/png": "[encoded data removed]",
      "text/plain": [
       "<Figure size 432x288 with 1 Axes>"
      ]
     },
     "metadata": {},
     "output_type": "display_data"
    }
   ],
   "source": [
    "y.value_counts().plot.pie(autopct='%.2f')\n"
   ]
  },
  {
   "cell_type": "code",
   "execution_count": 44,
   "metadata": {},
   "outputs": [],
   "source": [
    "from sklearn.model_selection import train_test_split\n",
    "\n",
    "X_train, X_test, y_train, y_test = train_test_split(X, y, test_size=0.2, random_state=42)\n"
   ]
  },
  {
   "cell_type": "code",
   "execution_count": 45,
   "metadata": {},
   "outputs": [
    {
     "data": {
      "text/plain": [
       "((6720, 19), (6720,), (1680, 19), (1680,))"
      ]
     },
     "execution_count": 45,
     "metadata": {},
     "output_type": "execute_result"
    }
   ],
   "source": [
    "X_train.shape, y_train.shape, X_test.shape, y_test.shape"
   ]
  },
  {
   "cell_type": "code",
   "execution_count": 46,
   "metadata": {},
   "outputs": [
    {
     "data": {
      "text/plain": [
       "<AxesSubplot:ylabel='Activity'>"
      ]
     },
     "execution_count": 46,
     "metadata": {},
     "output_type": "execute_result"
    },
    {
     "data": {
      "image/png": "[encoded data removed]",
      "text/plain": [
       "<Figure size 432x288 with 1 Axes>"
      ]
     },
     "metadata": {},
     "output_type": "display_data"
    }
   ],
   "source": [
    "# Pie chart of the training set\n",
    "y_train.value_counts().plot.pie(autopct='%.2f')"
   ]
  },
  {
   "cell_type": "code",
   "execution_count": 47,
   "metadata": {},
   "outputs": [
    {
     "data": {
      "text/plain": [
       "0    6059\n",
       "1     661\n",
       "Name: Activity, dtype: int64"
      ]
     },
     "execution_count": 47,
     "metadata": {},
     "output_type": "execute_result"
    }
   ],
   "source": [
    "y_train.value_counts()"
   ]
  },
  {
   "cell_type": "code",
   "execution_count": 48,
   "metadata": {},
   "outputs": [
    {
     "name": "stdout",
     "output_type": "stream",
     "text": [
      "Requirement already satisfied: ruamel.yaml in c:\\users\\sanjay\\anaconda3\\lib\\site-packages (0.17.21)\n",
      "Requirement already satisfied: ruamel.yaml.clib>=0.2.6 in c:\\users\\sanjay\\anaconda3\\lib\\site-packages (from ruamel.yaml) (0.2.6)\n",
      "Note: you may need to restart the kernel to use updated packages.\n"
     ]
    }
   ],
   "source": [
    "pip install ruamel.yaml"
   ]
  },
  {
   "cell_type": "code",
   "execution_count": 49,
   "metadata": {},
   "outputs": [],
   "source": [
    "from imblearn.under_sampling import RandomUnderSampler"
   ]
  },
  {
   "cell_type": "code",
   "execution_count": 50,
   "metadata": {},
   "outputs": [
    {
     "data": {
      "image/png": "[encoded data removed]",
      "text/plain": [
       "<Figure size 432x288 with 1 Axes>"
      ]
     },
     "metadata": {},
     "output_type": "display_data"
    }
   ],
   "source": [
    "rus = RandomUnderSampler(sampling_strategy=1) # Numerical value\n",
    "# rus = RandomUnderSampler(sampling_strategy=\"not minority\") # String\n",
    "X_train_rus, y_train_rus = rus.fit_resample(X_train, y_train)\n",
    "\n",
    "ax = y_train_rus.value_counts().plot.pie(autopct='%.2f')\n",
    "_ = ax.set_title(\"Under-sampling\")"
   ]
  },
  {
   "cell_type": "code",
   "execution_count": 51,
   "metadata": {},
   "outputs": [
    {
     "data": {
      "text/plain": [
       "0    661\n",
       "1    661\n",
       "Name: Activity, dtype: int64"
      ]
     },
     "execution_count": 51,
     "metadata": {},
     "output_type": "execute_result"
    }
   ],
   "source": [
    "# Class distribution\n",
    "y_train_rus.value_counts()"
   ]
  },
  {
   "cell_type": "code",
   "execution_count": 52,
   "metadata": {},
   "outputs": [
    {
     "data": {
      "text/html": [
       "<div>\n",
       "<style scoped>\n",
       "    .dataframe tbody tr th:only-of-type {\n",
       "        vertical-align: middle;\n",
       "    }\n",
       "\n",
       "    .dataframe tbody tr th {\n",
       "        vertical-align: top;\n",
       "    }\n",
       "\n",
       "    .dataframe thead th {\n",
       "        text-align: right;\n",
       "    }\n",
       "</style>\n",
       "<table border=\"1\" class=\"dataframe\">\n",
       "  <thead>\n",
       "    <tr style=\"text-align: right;\">\n",
       "      <th></th>\n",
       "      <th>Performance_metric_names</th>\n",
       "      <th>Performance_metric_values</th>\n",
       "    </tr>\n",
       "  </thead>\n",
       "  <tbody>\n",
       "    <tr>\n",
       "      <th>0</th>\n",
       "      <td>MCC_train</td>\n",
       "      <td>0.643204</td>\n",
       "    </tr>\n",
       "    <tr>\n",
       "      <th>1</th>\n",
       "      <td>MCC_CV</td>\n",
       "      <td>0.121595</td>\n",
       "    </tr>\n",
       "    <tr>\n",
       "      <th>2</th>\n",
       "      <td>MCC_test</td>\n",
       "      <td>0.096009</td>\n",
       "    </tr>\n",
       "  </tbody>\n",
       "</table>\n",
       "</div>"
      ],
      "text/plain": [
       "  Performance_metric_names  Performance_metric_values\n",
       "0                MCC_train                   0.643204\n",
       "1                   MCC_CV                   0.121595\n",
       "2                 MCC_test                   0.096009"
      ]
     },
     "execution_count": 52,
     "metadata": {},
     "output_type": "execute_result"
    }
   ],
   "source": [
    "# Training Random Forest Models\n",
    "from sklearn.ensemble import RandomForestClassifier\n",
    "\n",
    "model = RandomForestClassifier(random_state=42)\n",
    "model.fit(X_train_rus, y_train_rus)\n",
    "\n",
    "# Training Cross-validation Models\n",
    "from sklearn.metrics import make_scorer, recall_score, matthews_corrcoef\n",
    "from sklearn.model_selection import cross_validate\n",
    "\n",
    "model_cv = RandomForestClassifier(random_state=42)\n",
    "cv_scoring = {'MCC': make_scorer(matthews_corrcoef)}\n",
    "cv = cross_validate(model_cv, X_train_rus, y_train_rus, cv=5, scoring=cv_scoring)\n",
    "\n",
    "# Apply model to make prediction\n",
    "from sklearn.metrics import matthews_corrcoef\n",
    "\n",
    "y_train_pred = model.predict(X_train_rus)\n",
    "y_test_pred = model.predict(X_test)\n",
    "  \n",
    "mcc_train = matthews_corrcoef(y_train_rus, y_train_pred)\n",
    "mcc_test = matthews_corrcoef(y_test, y_test_pred)\n",
    "mcc_cv = cv['test_MCC'].mean()\n",
    "\n",
    "# Display model performance results\n",
    "df_labels = pd.Series(['MCC_train', 'MCC_CV', 'MCC_test'], name = 'Performance_metric_names')\n",
    "df_values = pd.Series([mcc_train, mcc_cv, mcc_test], name = 'Performance_metric_values')\n",
    "df2 = pd.concat([df_labels, df_values], axis=1)\n",
    "df2"
   ]
  },
  {
   "cell_type": "code",
   "execution_count": 53,
   "metadata": {},
   "outputs": [
    {
     "name": "stderr",
     "output_type": "stream",
     "text": [
      "C:\\Users\\SANJAY\\anaconda3\\lib\\site-packages\\sklearn\\base.py:450: UserWarning: X does not have valid feature names, but RandomForestClassifier was fitted with feature names\n",
      "  warnings.warn(\n"
     ]
    },
    {
     "data": {
      "text/plain": [
       "array([1, 1], dtype=int64)"
      ]
     },
     "execution_count": 53,
     "metadata": {},
     "output_type": "execute_result"
    }
   ],
   "source": [
    "predictions = model.predict([ [ 0.0125    ,   -99.692         ,  -0.99692            ,  99.9           ,       0       ,    0.099791      ,      0.99791      ,     0.099791       ,     0.99791       ,        99.9         ,         0      ,    -0.0090538    ,      -0.99592        ,    0.099791  ,         0.99791    ,        100.01        ,          0        ,       99.9               , 0       ], [         0.055       , -199.2            , -1.992       ,     99.801       ,           0           ,  0.1993            ,  1.993         ,    0.1993         ,     1.993      ,       99.801       ,           0           ,   99.801         ,        0          ,    0.1993       ,      1.993         ,   0.1993      ,        1.993         ,    99.801             ,   0] ])\n",
    "predictions"
   ]
  },
  {
   "cell_type": "code",
   "execution_count": 54,
   "metadata": {},
   "outputs": [
    {
     "name": "stderr",
     "output_type": "stream",
     "text": [
      "C:\\Users\\SANJAY\\anaconda3\\lib\\site-packages\\sklearn\\base.py:450: UserWarning: X does not have valid feature names, but RandomForestClassifier was fitted with feature names\n",
      "  warnings.warn(\n"
     ]
    },
    {
     "data": {
      "text/plain": [
       "array([0, 0], dtype=int64)"
      ]
     },
     "execution_count": 54,
     "metadata": {},
     "output_type": "execute_result"
    }
   ],
   "source": [
    "predictions = model.predict([ [       0.9825         ,    0              ,    0          ,  0.0001        ,      0.001        ,     0.0001         ,     0.001          ,      100         ,         0               , 100           ,       0          ,    0.0001        ,     0.001            ,  0.0001           ,  0.001        ,       100      ,            0       ,         100              ,    0     ], [    1      , -99.691          , -0.99691            ,  99.9            ,      0          ,  0.09979         ,    0.9979           , 0.09979           ,  0.9979             ,  99.9           ,       0         , -0.0099591        ,  -0.99591         ,    0.09979       ,     0.9979         ,   100.01        ,        0          ,       99.9             ,     0         ] ])\n",
    "predictions"
   ]
  },
  {
   "cell_type": "code",
   "execution_count": null,
   "metadata": {},
   "outputs": [],
   "source": []
  },
  {
   "cell_type": "code",
   "execution_count": null,
   "metadata": {},
   "outputs": [],
   "source": []
  }
 ],
 "metadata": {
  "kernelspec": {
   "display_name": "Python 3 (ipykernel)",
   "language": "python",
   "name": "python3"
  },
  "language_info": {
   "codemirror_mode": {
    "name": "ipython",
    "version": 3
   },
   "file_extension": ".py",
   "mimetype": "text/x-python",
   "name": "python",
   "nbconvert_exporter": "python",
   "pygments_lexer": "ipython3",
   "version": "3.9.7"
  }
 },
 "nbformat": 4,
 "nbformat_minor": 2
}
